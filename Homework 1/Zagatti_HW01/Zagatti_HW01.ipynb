{
 "cells": [
  {
   "cell_type": "markdown",
   "id": "8150cded-6507-44b4-89e9-4a94f4ddaf6b",
   "metadata": {
    "tags": []
   },
   "source": [
    "# Homework 01 - Sebastiano Zagatti"
   ]
  },
  {
   "cell_type": "markdown",
   "id": "68b1d923-3a50-4895-a629-9cee8ee259d5",
   "metadata": {},
   "source": [
    "## Exercise 1\n",
    "\n",
    "The time in takes (in hours) to travel back home from the university is modeled by the density function \n",
    "\n",
    "$$\n",
    "f(x)=\\begin{cases}1-x/2& 0<x<2\\\\0 &\\text{otherwise}\\end{cases}.\n",
    "$$\n",
    "\n",
    "The cost for a trip of $x$ hours is $y=8+12x$ €. Compute the expected cost."
   ]
  },
  {
   "cell_type": "markdown",
   "id": "b7f60f1a-1af5-4ece-a1eb-fcfc5c100819",
   "metadata": {},
   "source": [
    "### Solution:\n",
    "We want to compute the expected cost of a trip of $x$ hours, so we need to compute $\\mathbb{E}[y]$, which, due to the linearity of the expectation $\\mathbb{E}[X+Y]=\\mathbb{E}[X]+\\mathbb{E}[Y]$, will be given by:\n",
    "\\begin{equation}\n",
    "    \\mathbb{E}[y] = 8 + 12\\, \\mathbb{E}[x]\n",
    "\\end{equation}\n",
    "\n",
    "Therefore, we need to compute $\\mathbb{E}[x]$:\n",
    "\\begin{equation}\n",
    "    \\mathbb{E}[x] = \\int_0^2 x\\,f(x)\\, dx = \\int_0^2 \\left( x - \\frac{x^2}{2} \\right)\\, dx = \\left[ \\frac{x^2}{2} - \\frac{x^3}{6} \\right]_{0}^{2} = \\frac{2}{3}\n",
    "\\end{equation}\n",
    "\n",
    "We can conclude that the expected cost $\\mathbb{E}[y]$ will be\n",
    "\\begin{equation}\n",
    "    \\mathbb{E}[y] = 8 + 12\\, \\frac{2}{3} = 8+8 = 16\n",
    "\\end{equation}"
   ]
  },
  {
   "cell_type": "markdown",
   "id": "0dd38c0b-3180-4952-8d4d-548c87be20c8",
   "metadata": {},
   "source": [
    "## Exercise 2\n",
    "\n",
    "Two random variables $X$ and $Y$ are said to be *correlated* if and only if their covariance in non-zero. \n",
    "\n",
    "Can two independent random variables $X$ and $Y$ be correlated?"
   ]
  },
  {
   "cell_type": "markdown",
   "id": "0b918981-efdf-408f-a4ad-a20e764bd0d9",
   "metadata": {
    "jp-MarkdownHeadingCollapsed": true,
    "tags": []
   },
   "source": [
    "### Solution\n",
    "Two independent random variabbles can not be correlated, their variance will always be 0. Let's proove it.\n",
    "\n",
    "We know that the covariance is defined as: $\\text{cov}(X,Y)=\\mathbb{E}[(X-\\mathbb{E}[X])(Y-\\mathbb{E}[Y])] = \\mathbb{E}[XY]-\\mathbb{E}[X]\\mathbb{E}[Y]$. In our case we obtain:\n",
    "\n",
    "\\begin{equation}\n",
    "    \\text{cov}(X,Y) = \\int_{\\mathbb{R^2}} xy\\,f_{X,Y}(x,y)\\, dx\\, dy -\\int_{\\mathbb{R}} x\\, f_X(x)\\, dx \\int_{\\mathbb{R}} y\\, f_Y(y)\\, dy\n",
    "\\end{equation}\n",
    "\n",
    "By definition if two random variables are independent we have that their joint probability equals the product of the marginal probabilities: $f_{X,Y}(x,y)=f_X(x)f_Y(y)$, so we can rewrite the previous equation as:\n",
    "\n",
    "\\begin{equation}\n",
    "    \\text{cov}(X,Y) = \\int_{\\mathbb{R^2}} xy\\,f_X(x)f_Y(y)\\, dx\\, dy -\\int_{\\mathbb{R}} x\\, f_X(x)\\, dx \\int_{\\mathbb{R}} y\\, f_Y(y)\\, dy\n",
    "\\end{equation}\n",
    "\n",
    "Since $f_X(x)$ depends only on $x$ and $f_Y(y)$ depends only on $y$ we can rewrite the integral on $\\mathbb{R^2}$ as the product of two integrals one on the $x$ axis and one on the $y$ axis:\n",
    "\n",
    "\\begin{equation}\n",
    "    \\text{cov}(X,Y) = \\int_{\\mathbb{R}} x\\,f_X(x)\\, dx \\int_{\\mathbb{R}} y\\,f_Y(y)\\, dy -\\int_{\\mathbb{R}} x\\, f_X(x)\\, dx \\int_{\\mathbb{R}} y\\, f_Y(y)\\, dy\n",
    "\\end{equation}\n",
    "\n",
    "Now it is clear that the two integrals are the same, so we conclude that $\\text{cov}(X,Y) =0$."
   ]
  },
  {
   "cell_type": "markdown",
   "id": "7bc860bc-39aa-4a4a-97db-159b4fdfad5a",
   "metadata": {},
   "source": [
    "## Exercise 3\n",
    "\n",
    "You buy a laptop whose lifetime $T$ is the number of years it works properly before breaking down. You know that $P(T\\geq t)=e^{-t/5}$ fot all $t\\geq0$, corresponding to the probability that it lasts at least $t$ years.\n",
    "\n",
    "If the laptop still works properly after two years, what is the probability that it breaks in the third year?"
   ]
  },
  {
   "cell_type": "markdown",
   "id": "44d98bbf-dcf5-4e55-90b9-f63279beab67",
   "metadata": {},
   "source": [
    "### Solution\n",
    "Let $A$ be the event that the laptop breaks down in the third year and let $B$ be the event that the laptop does not break in the first two years; we are interested in computing $P(A|B)$.\n",
    "\n",
    "$$P(A)=P(2 \\leq T \\leq 3) = P(T\\geq2)-P(\\geq 3) = e^{-2/5} - e^{-3/5}$$\n",
    "\n",
    "$$P(B) = P(T\\geq 2) = e^{-2/5}$$\n",
    "\n",
    "In general we have that \n",
    "\n",
    "$$P(A|B) = \\frac{P(A \\cap B)}{P(B)}$$\n",
    "\n",
    "Then, since $A \\subset B$ we have that $A \\cap B = A$, so we can conclude that:\n",
    "\n",
    "$$P(A|B) = \\frac{P(A)}{P(B)} = \\frac{e^{-2/5} - e^{-3/5}}{e^{-2/5}} = 0.18$$"
   ]
  },
  {
   "cell_type": "markdown",
   "id": "c6771221-71c5-4700-9fd1-99693082b40a",
   "metadata": {},
   "source": [
    "## Exercise 4\n",
    "Given the definitions:\n",
    "\n",
    "- *A set $K\\in \\mathbb {R}^{n}$ is **convex** if for each pair of distinct points $a,b\\in K$ the closed segment with endpoints $a$ and $b$ is contained within $K$.*\n",
    "- *If $K\\subset X$ and $p\\in K$ then $p$ is called an **extreme point** of $K$ if it does not lie between any two distinct points of $K$. That is, if there does not exist $x,y\\in K$ and $0<t<1$ such that $x\\neq y$ and $p=tx+(1-t)y$.*\n",
    "- *A **convex polytope** is a compact convex set with a finite number of extreme points. Equivalently, it may be defined as an intersection of a finite number of half-spaces (hyperplanes given by a system of linear inequalities).* \n",
    "\n",
    "find the VC dimension of the set of functions\n",
    "$$H=\\{\\mathbf{1}_{x\\in C}: C \\text{ is a convex polytope in }\\mathbb{R}^2\\},$$\n",
    "where $\\mathbf{1}_{x\\in C}$ is the indicator function."
   ]
  },
  {
   "cell_type": "markdown",
   "id": "1cde7f17-cae7-4eb0-ae1f-b1f8a408cff1",
   "metadata": {},
   "source": [
    "### Solution\n",
    "In $\\mathbb{R^2}$ we have that the set of all the convex polytopes is a superset of the set of all the convex polygons in the plane. In general we have that for any positive integer $m$ we can place $m$ points on a circle, then if we consider any subset of the points we can build a convex polytope using those points as the extreme points (vertices of the polygons). With this construction we have that the polytope will not contain any of the points not in the subset, this proves that we can shatter arbitrarily large sets, so the VC dimension is infinite.\n",
    "\n",
    "Since we are in $\\mathbb{R^2}$ we are dealing with the class of all convex polygons with $d$ extreme points (vertices) with $d$ as large as we want. In general we have that for this class we can shatter $2d+1$ points. This can be proved by placing $2d+1$ points on a circle and labeling them with two classes: positive (1) and negative (0). Since we have an odd number of points there will be a majority in one of the classes.\n",
    "\n",
    "If the negative points are the majority, there are at most $d$ positive points; these are contained by the convex polygon formed by joining the positive points.\n",
    "\n",
    "![](HW01.png)\n",
    "\n",
    "If the positive points are the majority, we need to consider the polygon formed by the tangents of the negative points.\n",
    "\n",
    "![](HW02.png)\n",
    "\n",
    "Therefore, since a set with $2d+1$ points can be shattered, the VC dimension of the set of convex polygons with at most $d$ vertices is at least $2d +1$, and since we can take $d$ as large as we want we have that the $VC$ dimension of the set $H$ is infinite."
   ]
  }
 ],
 "metadata": {
  "kernelspec": {
   "display_name": "Python 3 (ipykernel)",
   "language": "python",
   "name": "python3"
  },
  "language_info": {
   "codemirror_mode": {
    "name": "ipython",
    "version": 3
   },
   "file_extension": ".py",
   "mimetype": "text/x-python",
   "name": "python",
   "nbconvert_exporter": "python",
   "pygments_lexer": "ipython3",
   "version": "3.9.12"
  }
 },
 "nbformat": 4,
 "nbformat_minor": 5
}
