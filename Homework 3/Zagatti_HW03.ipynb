{
 "cells": [
  {
   "cell_type": "markdown",
   "id": "9c9ecf8b-ea48-49c9-b9fa-ae8a574032ca",
   "metadata": {},
   "source": [
    "# Homework 03 - Sebastiano Zagatti"
   ]
  },
  {
   "cell_type": "markdown",
   "id": "a309a923-2838-43a4-aa13-960225230c0b",
   "metadata": {},
   "source": [
    "## Exercise 1:\n",
    "1. Draw the Bayesian Network representing the joint distribution\n",
    "\n",
    "$$P(A,B,C,D,E,F,G)=P(A)P(B|A)P(F|B)P(C|A)P(D|B)P(E|D,F)P(G).$$\n",
    "\n",
    "2. Indicate whether the following statements on (conditional) independence are True or False and motivate your answer.\n",
    "\n",
    " a. $A\\perp \\!\\!\\! \\perp  D$\n",
    " \n",
    " b. $F \\perp \\!\\!\\! \\perp  D$\n",
    " \n",
    " c. $A\\perp \\!\\!\\! \\perp  B | C$\n",
    " \n",
    " d. $A\\perp \\!\\!\\! \\perp  D | B$\n",
    " \n",
    " e. $D\\perp \\!\\!\\! \\perp  F | E$\n",
    "\n",
    " f. $B\\perp \\!\\!\\! \\perp F| E$\n",
    " \n",
    " g. $A\\perp \\!\\!\\! \\perp  D | \\{B, F\\}$"
   ]
  },
  {
   "cell_type": "markdown",
   "id": "bda7b1af-4773-4fb1-b55a-060d8f6e0f79",
   "metadata": {},
   "source": [
    "#### Solution\n",
    "1.\n",
    "\n",
    "![](graph.png)\n",
    "\n",
    "2.\n",
    "\n",
    "a. $A\\perp \\!\\!\\! \\perp  D$: False\n",
    "$$ P(A,D) = \\text{ Head to Tail } = \\sum_B p(D|B)p(B|A)p(A) = p(D|A)p(A) \\neq p(D)p(A)$$\n",
    "$$\\Longrightarrow{} \\text{ $A$ and $D$ are not independent}$$\n",
    "\n",
    "b. $F \\perp \\!\\!\\! \\perp  D$: True\n",
    "$$ p(D,F)=\\text{ Head to Head }=\\sum_{E} p(D)p(F)p(E|D,F) = p(F)p(D)$$\n",
    "$$\\Longrightarrow{} \\text{ $D$ and $F$ are independent}$$\n",
    "\n",
    "c. $A\\perp \\!\\!\\! \\perp  B | C$: False\n",
    "$$ p(A,B|C) = \\frac{p(A,B,C)}{p(C)} = \\frac{p(A)p(B|A)p(C|A)}{p(C)}=\\text{ Bayes' Theorem }$$\n",
    "$$=p(B|A)p(A|C) \\neq p(A|C)p(B|C)$$\n",
    "$$\\Longrightarrow{} \\text{ $A$ and $B$ are not conditionally independent given $C$}$$\n",
    "\n",
    "d. $A\\perp \\!\\!\\! \\perp  D | B$: True\n",
    "$$ p(A,D|B) = \\frac{p(A,B,D)}{p(B)} =\\text{ Head to Tail }= \\frac{p(A)p(B|A)p(D|B)}{p(B)}=\\text{ Bayes' Theorem }$$\n",
    "$$= p(A|B)p(D|B) \\Longrightarrow{} \\text{ $A$ and $D$ are conditionally independent given $B$}$$\n",
    "\n",
    "e. $D\\perp \\!\\!\\! \\perp  F | E$: False\n",
    "$$ p(D,F|E) = \\frac{p(D,F,E)}{p(E)} = \\text{ Head to Head } = \\frac{p(D)p(F)p(E|D,F)}{p(E)} \\neq p(D|E) p(F|E)$$\n",
    "$$\\Longrightarrow{}\\text{ $D$ and $F$ are not conditionally independent given $E$}$$\n",
    "\n",
    "f. $B\\perp \\!\\!\\! \\perp F| E$: False\n",
    "$$ p(B,F|E) = \\frac{p(B,F,E)}{p(E)} = \\frac{p(B)p(F|B)p(E|F)}{p(E)}=\\text{ Bayes' Theorem }$$\n",
    "$$=\\frac{p(B)p(F|E)p(F|B)}{p(F)} = \\text{ Bayes' Theorem } = p(B|F)p(F|B) \\neq p(B|E)p(F|E)$$\n",
    "$$\\Longrightarrow{}\\text{ $B$ and $F$ are not conditionally independent given $E$}$$\n",
    "\n",
    "g. $A\\perp \\!\\!\\! \\perp  D | \\{B, F\\}$: True\n",
    "$$ p(A,D|\\{B,F\\}) = \\frac{p(A,D,B,F)}{p(B,F)} = \\frac{p(A)p(B|A)p(F|B)p(D|B)}{p(B)p(F|B)} = \\text{ Bayes' Theorem }$$\n",
    "$$= p(A|B)p(D|B) \\Longrightarrow{}\\text{ $A$ and $D$ are conditionally independent given $B$ and $F$}$$"
   ]
  },
  {
   "cell_type": "markdown",
   "id": "001719a2-ab4f-4c10-907f-55791f174b56",
   "metadata": {
    "tags": []
   },
   "source": [
    "### Exercise 2\n",
    "\n",
    "1. Write the generative model represented by the following directed graph, knowing that:\n",
    "    - $p$ and $\\pi_j$ are sampled from Beta distributions;\n",
    "    - $r_i$ is sampled from a Bernoulli distribution;\n",
    "    - $u_{ij}$ is sampled from a Bernoulli distribution with parameter $r_i (1 - \\pi_j) + (1 - r_i)\\pi_j$.\n",
    "\n",
    "![](image.png)\n",
    "\n",
    "2. Implement the generative model using `pyro`. \n",
    "\n",
    "    Set the hyperparameters to $\\alpha_p=1,\\beta_p=1,\\alpha_\\pi=1,\\beta_\\pi=5$ and evaluate your model on the observations `data = dist.Bernoulli(0.6).sample((12,6))`.\n",
    "\n",
    "    Remember to use plate notation and to condition on the observed data!"
   ]
  },
  {
   "cell_type": "markdown",
   "id": "754a6781-37c3-4b25-8d51-f58bab742d9a",
   "metadata": {
    "tags": []
   },
   "source": [
    "#### Solution\n",
    "\n",
    "1. The generative model is:\n",
    "    * $p\\sim Beta(\\alpha_p, \\beta_p)$\n",
    "    * $\\pi_j \\sim Beta(\\alpha_\\pi, \\beta_\\pi)$\n",
    "    * $r_i \\sim Bernoulli(p)$\n",
    "    * $u_{i,j} = Bernoulli \\left(r_i (1 - \\pi_j) + (1 - r_i)\\pi_j\\right)$\n",
    "\n",
    "with $j=1, \\dots, N$ and $i = 1, \\dots, S$"
   ]
  },
  {
   "cell_type": "code",
   "execution_count": 3,
   "id": "da6a769e-9193-41b6-a480-0e7f088c19dc",
   "metadata": {
    "tags": []
   },
   "outputs": [
    {
     "name": "stdout",
     "output_type": "stream",
     "text": [
      "p = tensor(0.7678) \n",
      "r = tensor([1., 1., 1., 1., 0., 1., 1., 0., 1., 0., 1., 1.]) \n",
      "pi = tensor([0.2320, 0.1038, 0.1691, 0.2006, 0.1639, 0.0195]) \n",
      "u = tensor([[0., 1., 1., 0., 1., 0.],\n",
      "        [1., 0., 1., 1., 0., 1.],\n",
      "        [0., 1., 1., 1., 1., 1.],\n",
      "        [0., 0., 1., 1., 1., 1.],\n",
      "        [1., 1., 0., 0., 1., 0.],\n",
      "        [0., 0., 0., 1., 1., 1.],\n",
      "        [0., 1., 0., 1., 0., 1.],\n",
      "        [0., 1., 1., 0., 1., 0.],\n",
      "        [1., 1., 1., 1., 0., 1.],\n",
      "        [0., 0., 1., 1., 0., 0.],\n",
      "        [1., 0., 0., 0., 1., 1.],\n",
      "        [1., 1., 1., 1., 0., 1.]])\n"
     ]
    }
   ],
   "source": [
    "import pyro\n",
    "import torch\n",
    "import pyro.distributions as dist\n",
    "pyro.set_rng_seed(1)\n",
    "\n",
    "# hyperparameters\n",
    "alpha_p = 1.0\n",
    "beta_p = 1.0\n",
    "alpha_pi = 1.0\n",
    "beta_pi = 5.0\n",
    "\n",
    "def model(data):\n",
    "    S = len(data)\n",
    "    N = len(data[0])\n",
    "    \n",
    "    # Global variables\n",
    "    p = pyro.sample('p', dist.Beta(alpha_p, beta_p))\n",
    "    \n",
    "    with pyro.plate('i', S):\n",
    "        r = pyro.sample('r', dist.Bernoulli(p))\n",
    "    \n",
    "    with pyro.plate('j', N):\n",
    "        pi = pyro.sample('pi', dist.Beta(alpha_pi, beta_pi))\n",
    "    \n",
    "    for i in range(S):\n",
    "        for j in range(N):\n",
    "            u = pyro.sample('u', dist.Bernoulli(r[i]*(1-pi[j])+(1-r[i])*pi[j]), obs=data)\n",
    "            \n",
    "    \n",
    "    print(\"p =\", p, \"\\nr =\", r, \"\\npi =\", pi, \"\\nu =\",  u)\n",
    "    \n",
    "model(data = dist.Bernoulli(0.6).sample((12,6)))"
   ]
  },
  {
   "cell_type": "code",
   "execution_count": 4,
   "id": "4c9e151e-19df-4ec9-8ef1-c125db1f02fd",
   "metadata": {},
   "outputs": [
    {
     "name": "stdout",
     "output_type": "stream",
     "text": [
      "p = tensor(0.7678) \n",
      "r = tensor([[1.],\n",
      "        [1.],\n",
      "        [1.],\n",
      "        [1.],\n",
      "        [0.],\n",
      "        [1.],\n",
      "        [1.],\n",
      "        [0.],\n",
      "        [1.],\n",
      "        [0.],\n",
      "        [1.],\n",
      "        [1.]]) \n",
      "pi = tensor([[[0.2320]],\n",
      "\n",
      "        [[0.1038]],\n",
      "\n",
      "        [[0.1691]],\n",
      "\n",
      "        [[0.2006]],\n",
      "\n",
      "        [[0.1639]],\n",
      "\n",
      "        [[0.0195]]]) \n",
      "u = tensor([[0., 1., 1., 0., 1., 0.],\n",
      "        [1., 0., 1., 1., 0., 1.],\n",
      "        [0., 1., 1., 1., 1., 1.],\n",
      "        [0., 0., 1., 1., 1., 1.],\n",
      "        [1., 1., 0., 0., 1., 0.],\n",
      "        [0., 0., 0., 1., 1., 1.],\n",
      "        [0., 1., 0., 1., 0., 1.],\n",
      "        [0., 1., 1., 0., 1., 0.],\n",
      "        [1., 1., 1., 1., 0., 1.],\n",
      "        [0., 0., 1., 1., 0., 0.],\n",
      "        [1., 0., 0., 0., 1., 1.],\n",
      "        [1., 1., 1., 1., 0., 1.]])\n"
     ]
    }
   ],
   "source": [
    "import pyro\n",
    "import torch\n",
    "import pyro.distributions as dist\n",
    "pyro.set_rng_seed(1)\n",
    "\n",
    "# hyperparameters\n",
    "alpha_p = 1.0\n",
    "beta_p = 1.0\n",
    "alpha_pi = 1.0\n",
    "beta_pi = 5.0\n",
    "\n",
    "def model(data):\n",
    "    S = len(data)\n",
    "    N = len(data[0])\n",
    "    \n",
    "    # Global variables\n",
    "    p = pyro.sample('p', dist.Beta(alpha_p, beta_p))\n",
    "    \n",
    "    x_axis = pyro.plate(\"x_axis\", S, dim=-2)\n",
    "    y_axis = pyro.plate(\"y_axis\", N, dim=-3)\n",
    "    with x_axis:\n",
    "         r = pyro.sample('r', dist.Bernoulli(p))\n",
    "    with y_axis:\n",
    "        pi = pyro.sample('pi', dist.Beta(alpha_pi, beta_pi))\n",
    "    with x_axis, y_axis:\n",
    "        u = pyro.sample('u', dist.Bernoulli(r*(1-pi)+(1-r)*pi), obs=data)\n",
    "            \n",
    "    print(\"p =\", p, \"\\nr =\", r, \"\\npi =\", pi, \"\\nu =\",  u)\n",
    "    \n",
    "model(data = dist.Bernoulli(0.6).sample((12,6)))"
   ]
  }
 ],
 "metadata": {
  "kernelspec": {
   "display_name": "Python 3 (ipykernel)",
   "language": "python",
   "name": "python3"
  },
  "language_info": {
   "codemirror_mode": {
    "name": "ipython",
    "version": 3
   },
   "file_extension": ".py",
   "mimetype": "text/x-python",
   "name": "python",
   "nbconvert_exporter": "python",
   "pygments_lexer": "ipython3",
   "version": "3.8.13"
  }
 },
 "nbformat": 4,
 "nbformat_minor": 5
}
